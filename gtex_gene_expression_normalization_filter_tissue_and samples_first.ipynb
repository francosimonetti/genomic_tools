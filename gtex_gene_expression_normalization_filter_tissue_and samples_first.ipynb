{
 "cells": [
  {
   "cell_type": "code",
   "execution_count": 1,
   "metadata": {},
   "outputs": [],
   "source": [
    "\n",
    "import numpy as np\n",
    "import pandas as pd\n",
    "import gzip\n",
    "import scipy.stats as stats\n",
    "import argparse\n",
    "import os\n",
    "from gtex_normalization import normalize_expression\n",
    "\n",
    "\n",
    "def get_donors(path):\n",
    "    donor_ids = list()\n",
    "    with open(path, 'r') as instream:\n",
    "        for line in instream:\n",
    "            donor_ids.append(line.strip().split()[0])\n",
    "    return donor_ids\n",
    "\n",
    "def read_gct(gct_file, donor_ids):\n",
    "    \"\"\"\n",
    "    Load GCT as DataFrame\n",
    "    \"\"\"    \n",
    "    df = pd.read_csv(gct_file, sep='\\t', skiprows=2, index_col=0)\n",
    "    df.drop('Description', axis=1, inplace=True)\n",
    "    df.index.name = 'gene_id'\n",
    "    df = df[[i for i in df.columns if '-'.join(i.split('-')[:2]) in donor_ids]]\n",
    "    return df"
   ]
  },
  {
   "cell_type": "code",
   "execution_count": 2,
   "metadata": {},
   "outputs": [],
   "source": [
    "path = \"/home/franco/cluster2/datasets/gtex/expression\"\n",
    "expression_gct = os.path.join(path, \"GTEx_Data_20150112_RNAseq_RNASeQCv1.1.8_gene_rpkm.gct.gz\") # \"rpkm file\"\n",
    "counts_gct = os.path.join(path, \"GTEx_Data_20150112_RNAseq_RNASeQCv1.1.8_gene_reads.gct.gz\")    # file with read counts\n",
    "donors_path = \"/media/disk1/gtex/donor_ids.fam\"\n",
    "expression_threshold=0.1    # 'Selects genes with > expression_threshold expression in at least min_samples')\n",
    "count_threshold=5,          # 'Selects genes with > count_threshold reads in at least min_samples')\n",
    "min_samples=10              # 'Minimum number of samples that must satisfy thresholds')\n"
   ]
  },
  {
   "cell_type": "code",
   "execution_count": 3,
   "metadata": {},
   "outputs": [],
   "source": [
    "donor_ids = get_donors(donors_path)\n"
   ]
  },
  {
   "cell_type": "code",
   "execution_count": 4,
   "metadata": {},
   "outputs": [],
   "source": [
    "expression_df = read_gct(expression_gct, donor_ids)"
   ]
  },
  {
   "cell_type": "code",
   "execution_count": 5,
   "metadata": {},
   "outputs": [
    {
     "data": {
      "text/plain": [
       "(56318, 8116)"
      ]
     },
     "execution_count": 5,
     "metadata": {},
     "output_type": "execute_result"
    }
   ],
   "source": [
    "expression_df.shape"
   ]
  },
  {
   "cell_type": "code",
   "execution_count": 6,
   "metadata": {},
   "outputs": [],
   "source": [
    "counts_df = read_gct(counts_gct, donor_ids)"
   ]
  },
  {
   "cell_type": "code",
   "execution_count": 7,
   "metadata": {},
   "outputs": [
    {
     "data": {
      "text/plain": [
       "(56318, 8116)"
      ]
     },
     "execution_count": 7,
     "metadata": {},
     "output_type": "execute_result"
    }
   ],
   "source": [
    "counts_df.shape"
   ]
  },
  {
   "cell_type": "code",
   "execution_count": 12,
   "metadata": {},
   "outputs": [],
   "source": [
    "import sys\n",
    "base_path = \"/home/franco/cluster2\"\n",
    "sys.path.insert(0, os.path.join(base_path, \"gxpred\"))\n",
    "\n",
    "gtfpath = os.path.join(base_path, \"datasets/gtex/gencode.v19.annotation.gtf.gz\")\n",
    "\n",
    "from iotools import readgtf\n",
    "\n",
    "gene_infos = list()\n",
    "for chrom in range(1,23):\n",
    "    gene_info = readgtf.gencode_v12(gtfpath, include_chrom = chrom, trim=False)\n",
    "    gene_infos = gene_infos+gene_info\n"
   ]
  },
  {
   "cell_type": "code",
   "execution_count": 15,
   "metadata": {},
   "outputs": [],
   "source": [
    "allensembl_ids = [ i.ensembl_id for i in gene_infos]"
   ]
  },
  {
   "cell_type": "code",
   "execution_count": 17,
   "metadata": {},
   "outputs": [],
   "source": [
    "common_ids = [i for i in allensembl_ids if i in expression_df.index]\n",
    "genes_expression_df =expression_df.loc[common_ids]"
   ]
  },
  {
   "cell_type": "code",
   "execution_count": 18,
   "metadata": {},
   "outputs": [],
   "source": [
    "import re\n",
    "attfile = \"/home/franco/gtex_expr_normalization/phs000424.v6.pht002743.v6.p1.c1.GTEx_Sample_Attributes.GRU.txt\"\n",
    "fulldonor_ids_rna = list()\n",
    "fulldonor_ids_wgenotype = list()\n",
    "with open(attfile, 'r') as instream:\n",
    "    counter = 0\n",
    "    for line in instream:\n",
    "        counter += 1\n",
    "        if re.search(\"^#\", line): \n",
    "            continue\n",
    "        arr = line.split(\"\\t\")\n",
    "        if len(arr)>1:\n",
    "            cond1 = re.search(\"Whole\", arr[14], re.IGNORECASE)\n",
    "            cond2 = re.search(\"flagged\", arr[27], re.IGNORECASE)\n",
    "            has_gt = re.search(\"dna\", arr[26], re.IGNORECASE)\n",
    "            is_rna = re.search(\"rna\", arr[26], re.IGNORECASE)\n",
    "            truseq = re.search(\"TrueSeq\", arr[25])\n",
    "            if not cond2:\n",
    "                if has_gt:\n",
    "                    fulldonor_ids_wgenotype.append(arr[1])\n",
    "                    # if re.search(\"GTEX-N7MS\", arr[1]):\n",
    "                        #print(arr)\n",
    "                if cond1 and is_rna and truseq:\n",
    "                    fulldonor_ids_rna.append(arr[1]) \n",
    "                    # if re.search(\"GTEX-N7MS\", arr[1]):\n",
    "                        # print(arr)\n",
    "\n",
    "# fulldonor_ids_w_genotype do not match our samples with genotype! \n",
    "# some GTEx filtering was done that we don't know about"
   ]
  },
  {
   "cell_type": "code",
   "execution_count": 19,
   "metadata": {},
   "outputs": [
    {
     "name": "stdout",
     "output_type": "stream",
     "text": [
      "393\n",
      "No repeated rna samples!\n"
     ]
    }
   ],
   "source": [
    "shortids = [ \"-\".join(i.split(\"-\")[:2]) for i in fulldonor_ids_rna]\n",
    "print(len(shortids))\n",
    "uu = set(shortids)\n",
    "if len(uu) == len(shortids):\n",
    "    print(\"No repeated rna samples!\")"
   ]
  },
  {
   "cell_type": "code",
   "execution_count": 26,
   "metadata": {},
   "outputs": [
    {
     "name": "stdout",
     "output_type": "stream",
     "text": [
      "338\n"
     ]
    }
   ],
   "source": [
    "rna_w_gt = [i for i in fulldonor_ids_rna if (\"-\".join(i.split(\"-\")[:2]) in donor_ids)]\n",
    "print(len(rna_w_gt))"
   ]
  },
  {
   "cell_type": "code",
   "execution_count": 23,
   "metadata": {},
   "outputs": [
    {
     "data": {
      "text/html": [
       "<div>\n",
       "<style scoped>\n",
       "    .dataframe tbody tr th:only-of-type {\n",
       "        vertical-align: middle;\n",
       "    }\n",
       "\n",
       "    .dataframe tbody tr th {\n",
       "        vertical-align: top;\n",
       "    }\n",
       "\n",
       "    .dataframe thead th {\n",
       "        text-align: right;\n",
       "    }\n",
       "</style>\n",
       "<table border=\"1\" class=\"dataframe\">\n",
       "  <thead>\n",
       "    <tr style=\"text-align: right;\">\n",
       "      <th></th>\n",
       "      <th>GTEX-1117F-0226-SM-5GZZ7</th>\n",
       "      <th>GTEX-111CU-1826-SM-5GZYN</th>\n",
       "      <th>GTEX-111FC-0226-SM-5N9B8</th>\n",
       "      <th>GTEX-111FC-1426-SM-5N9C7</th>\n",
       "      <th>GTEX-111VG-2326-SM-5N9BK</th>\n",
       "    </tr>\n",
       "    <tr>\n",
       "      <th>gene_id</th>\n",
       "      <th></th>\n",
       "      <th></th>\n",
       "      <th></th>\n",
       "      <th></th>\n",
       "      <th></th>\n",
       "    </tr>\n",
       "  </thead>\n",
       "  <tbody>\n",
       "    <tr>\n",
       "      <th>ENSG00000186092.4</th>\n",
       "      <td>0.000000</td>\n",
       "      <td>0.00000</td>\n",
       "      <td>0.000000</td>\n",
       "      <td>0.000000</td>\n",
       "      <td>0.000000</td>\n",
       "    </tr>\n",
       "    <tr>\n",
       "      <th>ENSG00000237683.5</th>\n",
       "      <td>3.559832</td>\n",
       "      <td>4.01445</td>\n",
       "      <td>1.590646</td>\n",
       "      <td>2.623339</td>\n",
       "      <td>14.087896</td>\n",
       "    </tr>\n",
       "  </tbody>\n",
       "</table>\n",
       "</div>"
      ],
      "text/plain": [
       "                   GTEX-1117F-0226-SM-5GZZ7  GTEX-111CU-1826-SM-5GZYN  \\\n",
       "gene_id                                                                 \n",
       "ENSG00000186092.4                  0.000000                   0.00000   \n",
       "ENSG00000237683.5                  3.559832                   4.01445   \n",
       "\n",
       "                   GTEX-111FC-0226-SM-5N9B8  GTEX-111FC-1426-SM-5N9C7  \\\n",
       "gene_id                                                                 \n",
       "ENSG00000186092.4                  0.000000                  0.000000   \n",
       "ENSG00000237683.5                  1.590646                  2.623339   \n",
       "\n",
       "                   GTEX-111VG-2326-SM-5N9BK  \n",
       "gene_id                                      \n",
       "ENSG00000186092.4                  0.000000  \n",
       "ENSG00000237683.5                 14.087896  "
      ]
     },
     "execution_count": 23,
     "metadata": {},
     "output_type": "execute_result"
    }
   ],
   "source": [
    "genes_expression_df.iloc[:2,:5]"
   ]
  },
  {
   "cell_type": "code",
   "execution_count": 28,
   "metadata": {},
   "outputs": [
    {
     "name": "stdout",
     "output_type": "stream",
     "text": [
      "(18744, 338)\n"
     ]
    }
   ],
   "source": [
    "# index RNA expre matrix with only those gene expressions with genotype for whole blood\n",
    "# newshortids = [ \"-\".join(i.split(\"-\")[:2]) for i in rna_w_gt2]\n",
    "wblood_expression_df = genes_expression_df.loc[:,rna_w_gt]\n",
    "print(wblood_expression_df.shape)"
   ]
  },
  {
   "cell_type": "code",
   "execution_count": 30,
   "metadata": {},
   "outputs": [
    {
     "name": "stdout",
     "output_type": "stream",
     "text": [
      "(18744, 338)\n"
     ]
    }
   ],
   "source": [
    "wblood_counts_df = counts_df.loc[common_ids,rna_w_gt]\n",
    "print(wblood_counts_df.shape)"
   ]
  },
  {
   "cell_type": "code",
   "execution_count": 31,
   "metadata": {},
   "outputs": [
    {
     "name": "stdout",
     "output_type": "stream",
     "text": [
      "Normalizing using all genes within 8116 samples ...\n"
     ]
    }
   ],
   "source": [
    "\n",
    "print('Normalizing using all genes within %i samples ...' % expression_df.shape[1])\n",
    "quant_std_df, quant_df = normalize_expression(wblood_expression_df, wblood_counts_df,\n",
    "    expression_threshold=expression_threshold, count_threshold=count_threshold, min_samples=min_samples)\n"
   ]
  },
  {
   "cell_type": "code",
   "execution_count": 32,
   "metadata": {},
   "outputs": [
    {
     "data": {
      "text/plain": [
       "(14810, 338)"
      ]
     },
     "execution_count": 32,
     "metadata": {},
     "output_type": "execute_result"
    }
   ],
   "source": [
    "quant_std_df.shape"
   ]
  },
  {
   "cell_type": "code",
   "execution_count": 34,
   "metadata": {},
   "outputs": [
    {
     "data": {
      "text/html": [
       "<div>\n",
       "<style scoped>\n",
       "    .dataframe tbody tr th:only-of-type {\n",
       "        vertical-align: middle;\n",
       "    }\n",
       "\n",
       "    .dataframe tbody tr th {\n",
       "        vertical-align: top;\n",
       "    }\n",
       "\n",
       "    .dataframe thead th {\n",
       "        text-align: right;\n",
       "    }\n",
       "</style>\n",
       "<table border=\"1\" class=\"dataframe\">\n",
       "  <thead>\n",
       "    <tr style=\"text-align: right;\">\n",
       "      <th></th>\n",
       "      <th>GTEX-111YS</th>\n",
       "      <th>GTEX-1122O</th>\n",
       "      <th>GTEX-1128S</th>\n",
       "      <th>GTEX-113IC</th>\n",
       "      <th>GTEX-113JC</th>\n",
       "    </tr>\n",
       "    <tr>\n",
       "      <th>gene_id</th>\n",
       "      <th></th>\n",
       "      <th></th>\n",
       "      <th></th>\n",
       "      <th></th>\n",
       "      <th></th>\n",
       "    </tr>\n",
       "  </thead>\n",
       "  <tbody>\n",
       "    <tr>\n",
       "      <th>ENSG00000237683.5</th>\n",
       "      <td>0.438855</td>\n",
       "      <td>0.370628</td>\n",
       "      <td>1.866676</td>\n",
       "      <td>-2.371853</td>\n",
       "      <td>-1.047248</td>\n",
       "    </tr>\n",
       "    <tr>\n",
       "      <th>ENSG00000188976.6</th>\n",
       "      <td>-0.107422</td>\n",
       "      <td>-1.200131</td>\n",
       "      <td>-0.048081</td>\n",
       "      <td>0.092559</td>\n",
       "      <td>-0.307961</td>\n",
       "    </tr>\n",
       "  </tbody>\n",
       "</table>\n",
       "</div>"
      ],
      "text/plain": [
       "                   GTEX-111YS  GTEX-1122O  GTEX-1128S  GTEX-113IC  GTEX-113JC\n",
       "gene_id                                                                      \n",
       "ENSG00000237683.5    0.438855    0.370628    1.866676   -2.371853   -1.047248\n",
       "ENSG00000188976.6   -0.107422   -1.200131   -0.048081    0.092559   -0.307961"
      ]
     },
     "execution_count": 34,
     "metadata": {},
     "output_type": "execute_result"
    }
   ],
   "source": [
    "quant_std_df.iloc[:2,:5]\n",
    "\n",
    "# change long for short donor ids\n",
    "# newdonor_ids = ['-'.join(i.split('-')[:2]) for i in quant_std_df.columns]\n",
    "# quant_std_df.columns = newdonor_ids"
   ]
  },
  {
   "cell_type": "code",
   "execution_count": 33,
   "metadata": {},
   "outputs": [],
   "source": [
    "# write normalized expression file\n",
    "quant_std_df.to_csv('gtex_afterfiltering.normalized.expression.txt', sep='\\t')\n"
   ]
  },
  {
   "cell_type": "code",
   "execution_count": null,
   "metadata": {},
   "outputs": [],
   "source": []
  }
 ],
 "metadata": {
  "kernelspec": {
   "display_name": "Python 3",
   "language": "python",
   "name": "python3"
  },
  "language_info": {
   "codemirror_mode": {
    "name": "ipython",
    "version": 3
   },
   "file_extension": ".py",
   "mimetype": "text/x-python",
   "name": "python",
   "nbconvert_exporter": "python",
   "pygments_lexer": "ipython3",
   "version": "3.6.3"
  }
 },
 "nbformat": 4,
 "nbformat_minor": 2
}
