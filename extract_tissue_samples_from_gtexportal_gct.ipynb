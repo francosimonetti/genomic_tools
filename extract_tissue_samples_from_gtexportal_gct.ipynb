{
 "cells": [
  {
   "cell_type": "code",
   "execution_count": 81,
   "metadata": {},
   "outputs": [],
   "source": [
    "\n",
    "import numpy as np\n",
    "import pandas as pd\n",
    "import gzip\n",
    "import scipy.stats as stats\n",
    "import argparse\n",
    "import os\n",
    "from gtex_normalization import normalize_expression\n",
    "\n",
    "\n",
    "def get_donors(path):\n",
    "    donor_ids = list()\n",
    "    with open(path, 'r') as instream:\n",
    "        next(instream)\n",
    "        next(instream)\n",
    "        for line in instream:\n",
    "            donor_ids.append(line.strip().split()[0])\n",
    "    return donor_ids\n",
    "\n",
    "def read_gct(gct_file, donor_ids=None):\n",
    "    \"\"\"\n",
    "    Load GCT as DataFrame\n",
    "    \"\"\"    \n",
    "    df = pd.read_csv(gct_file, sep='\\t', skiprows=2, index_col=0)\n",
    "    df.drop('Description', axis=1, inplace=True)\n",
    "    df.index.name = 'gene_id'\n",
    "    if donor_ids is not None:\n",
    "        df = df[[i for i in df.columns if '-'.join(i.split('-')[:2]) in donor_ids]]\n",
    "    return df"
   ]
  },
  {
   "cell_type": "code",
   "execution_count": 55,
   "metadata": {},
   "outputs": [],
   "source": [
    "path = \"/data/franco/datasets/gtex_v8/expression\"\n",
    "expression_gct = os.path.join(path, \"GTEx_Analysis_2017-06-05_v8_RNASeQCv1.1.9_gene_tpm.gct.gz\") # \"rpkm file\"\n",
    "counts_gct = os.path.join(path, \"GTEx_Analysis_2017-06-05_v8_RNASeQCv1.1.9_gene_reads.gct.gz\")    # file with read counts\n",
    "# expression_threshold=0.1    # 'Selects genes with > expression_threshold expression in at least min_samples')\n",
    "# count_threshold=5,          # 'Selects genes with > count_threshold reads in at least min_samples')\n",
    "# min_samples=10              # 'Minimum number of samples that must satisfy thresholds')\n",
    "pheno_file = os.path.join(path, \"../phenotypes/phs000424.v8.pht002743.v8.p2.c1.GTEx_Sample_Attributes.GRU.txt\")\n",
    "donor_file = os.path.join(path, \"../genotypes/gtex_v8.sample\")"
   ]
  },
  {
   "cell_type": "code",
   "execution_count": 56,
   "metadata": {},
   "outputs": [],
   "source": [
    "# Load genotype donor ids, we will use them to filter rna-seq samples that also have genotype\n",
    "pheno_df = pd.read_csv(pheno_file, sep=\"\\t\", comment=\"#\", header=0)\n",
    "gt_donors = get_donors(donor_file)"
   ]
  },
  {
   "cell_type": "code",
   "execution_count": 99,
   "metadata": {
    "scrolled": true
   },
   "outputs": [],
   "source": [
    "# pheno_df[pheno_df['SMGEBTCHT'].str.contains(\"TruSeq.v1\")]['SAMPID']]"
   ]
  },
  {
   "cell_type": "code",
   "execution_count": 34,
   "metadata": {},
   "outputs": [],
   "source": [
    "# Get list of all tissues present in the phenotype file\n",
    "tissue_names = list(pheno_df[pheno_df['SMGEBTCHT'].str.contains(\"TruSeq.v1\")][\"SMTSD\"].unique())"
   ]
  },
  {
   "cell_type": "code",
   "execution_count": 74,
   "metadata": {},
   "outputs": [],
   "source": [
    "# From the phenotype file loaded above, filter RNA-seq samples that are now flagged and belong to each tissue\n",
    "def get_samples(pheno_df, tissue, gt_donors):\n",
    "    sub_df = pheno_df.loc[(pheno_df['SMTORMVE'] != \"FLAGGED\") & (pheno_df['SMGEBTCHT'] == \"TruSeq.v1\") & (pheno_df['SMTSD'] == tissue)]\n",
    "    valid_donors = [i for i in list(sub_df[\"SAMPID\"]) if '-'.join(i.split('-')[:2]) in gt_donors]\n",
    "    # print([True for i in list(sub_df[\"SAMPID\"]) if i in valid_donors])\n",
    "    return valid_donors\n",
    "    \n",
    "donors_per_tissue = dict()\n",
    "for tissue in tissue_names:\n",
    "    donors_per_tissue[tissue] = get_samples(pheno_df, tissue, gt_donors)"
   ]
  },
  {
   "cell_type": "code",
   "execution_count": 100,
   "metadata": {},
   "outputs": [
    {
     "name": "stdout",
     "output_type": "stream",
     "text": [
      "1 Adipose - Subcutaneous 581\n",
      "2 Muscle - Skeletal 706\n",
      "3 Artery - Tibial 584\n",
      "4 Artery - Coronary 213\n",
      "5 Heart - Atrial Appendage 372\n",
      "6 Adipose - Visceral (Omentum) 469\n",
      "7 Ovary 167\n",
      "8 Uterus 129\n",
      "9 Vagina 141\n",
      "10 Breast - Mammary Tissue 396\n",
      "11 Skin - Not Sun Exposed (Suprapubic) 517\n",
      "12 Minor Salivary Gland 144\n",
      "13 Brain - Cortex 205\n",
      "14 Adrenal Gland 233\n",
      "15 Thyroid 574\n",
      "16 Lung 515\n",
      "17 Spleen 227\n",
      "18 Pancreas 305\n",
      "19 Esophagus - Muscularis 465\n",
      "20 Esophagus - Mucosa 497\n",
      "21 Esophagus - Gastroesophageal Junction 330\n",
      "22 Stomach 324\n",
      "23 Colon - Sigmoid 318\n",
      "24 Small Intestine - Terminal Ileum 174\n",
      "25 Colon - Transverse 368\n",
      "26 Prostate 221\n",
      "27 Testis 322\n",
      "28 Skin - Sun Exposed (Lower leg) 605\n",
      "29 Nerve - Tibial 532\n",
      "30 Heart - Left Ventricle 386\n",
      "31 Pituitary 237\n",
      "32 Brain - Cerebellum 209\n",
      "33 Cells - Cultured fibroblasts 483\n",
      "34 Whole Blood 670\n",
      "35 Artery - Aorta 387\n",
      "36 Cells - EBV-transformed lymphocytes 147\n",
      "37 Brain - Frontal Cortex (BA9) 175\n",
      "38 Brain - Cerebellar Hemisphere 175\n",
      "39 Brain - Caudate (basal ganglia) 194\n",
      "40 Brain - Nucleus accumbens (basal ganglia) 202\n",
      "41 Brain - Putamen (basal ganglia) 170\n",
      "42 Brain - Hypothalamus 170\n",
      "43 Brain - Spinal cord (cervical c-1) 126\n",
      "44 Liver 208\n",
      "45 Brain - Hippocampus 165\n",
      "46 Brain - Anterior cingulate cortex (BA24) 147\n",
      "47 Brain - Substantia nigra 114\n",
      "48 Kidney - Cortex 73\n",
      "49 Brain - Amygdala 129\n"
     ]
    }
   ],
   "source": [
    "# Count for each tissue, the number of samples with Genotype, should match gtexportal\n",
    "# Filter tissues with less than 30 samples\n",
    "counter = 1\n",
    "for t in donors_per_tissue:\n",
    "    if len(donors_per_tissue[t]) > 30:\n",
    "        print(counter, t, len(donors_per_tissue[t]))\n",
    "        counter += 1"
   ]
  },
  {
   "cell_type": "code",
   "execution_count": 82,
   "metadata": {
    "scrolled": true
   },
   "outputs": [],
   "source": [
    "expression_df = read_gct(expression_gct, gt_donors) #"
   ]
  },
  {
   "cell_type": "code",
   "execution_count": 83,
   "metadata": {},
   "outputs": [
    {
     "data": {
      "text/plain": [
       "(56200, 15253)"
      ]
     },
     "execution_count": 83,
     "metadata": {},
     "output_type": "execute_result"
    }
   ],
   "source": [
    "expression_df.shape"
   ]
  },
  {
   "cell_type": "code",
   "execution_count": 93,
   "metadata": {},
   "outputs": [],
   "source": [
    "def write_gct(df, filepath, trim_ids=True, header=False):\n",
    "    \"\"\"\n",
    "    Write dataframe as a GCT file\n",
    "    \"\"\"\n",
    "    with open(filepath, 'w') as mfile:\n",
    "        if header:\n",
    "            mfile.write(\"#1.2\\n\")\n",
    "            mfile.write('%i\\t%i\\n' % (df.shape[0], df.shape[1] - 1))\n",
    "        # mfile.write(str(df.shape[0])+'\\t'+str(df.shape[1] - 1)+'\\n')\n",
    "        if trim_ids:\n",
    "            new_headers = ['-'.join(i.split('-')[:2]) for i in df.columns]\n",
    "            df.columns = new_headers\n",
    "        df.to_csv(mfile, sep='\\t', index=True, header=True)"
   ]
  },
  {
   "cell_type": "code",
   "execution_count": 101,
   "metadata": {
    "scrolled": false
   },
   "outputs": [],
   "source": [
    "# create a dictionary from the whole name to the acronyms\n",
    "names_df = pd.read_table(\"/data/franco/datasets/gtex_v8/tissues_list.txt\", sep=\"\\t\", comment=\"#\", header=None)\n",
    "names_df.columns = [\"long_name\", \"acr\", \"id\", \"npeer\"]\n",
    "names2acr = dict(zip(names_df[\"long_name\"], names_df[\"acr\"]))"
   ]
  },
  {
   "cell_type": "code",
   "execution_count": 103,
   "metadata": {
    "scrolled": true
   },
   "outputs": [
    {
     "name": "stdout",
     "output_type": "stream",
     "text": [
      "Processing Adipose - Subcutaneous -> as\n",
      "Adipose - Subcutaneous file exists\n",
      "Processing Muscle - Skeletal -> ms\n",
      "Muscle - Skeletal file exists\n",
      "Processing Artery - Tibial -> at\n",
      "Artery - Tibial file exists\n",
      "Processing Artery - Coronary -> ac\n",
      "Artery - Coronary file exists\n",
      "Processing Heart - Atrial Appendage -> haa\n",
      "Heart - Atrial Appendage file exists\n",
      "Processing Adipose - Visceral (Omentum) -> av\n",
      "Adipose - Visceral (Omentum) file exists\n",
      "Processing Ovary -> ov\n",
      "Ovary file exists\n",
      "Processing Uterus -> ut\n",
      "Uterus file exists\n",
      "Processing Vagina -> va\n",
      "Vagina file exists\n",
      "Processing Breast - Mammary Tissue -> br\n",
      "Breast - Mammary Tissue file exists\n",
      "Processing Skin - Not Sun Exposed (Suprapubic) -> snse\n",
      "Skin - Not Sun Exposed (Suprapubic) file exists\n",
      "Processing Minor Salivary Gland -> msg\n",
      "Minor Salivary Gland file exists\n",
      "Processing Brain - Cortex -> bco\n",
      "Brain - Cortex file exists\n",
      "Processing Adrenal Gland -> ag\n",
      "Adrenal Gland file exists\n",
      "Processing Thyroid -> thy\n",
      "Thyroid file exists\n",
      "Processing Lung -> lu\n",
      "Lung file exists\n",
      "Processing Spleen -> spl\n",
      "Spleen file exists\n",
      "Processing Pancreas -> pan\n",
      "Pancreas file exists\n",
      "Processing Esophagus - Muscularis -> esomu\n",
      "Esophagus - Muscularis file exists\n",
      "Processing Esophagus - Mucosa -> esom\n",
      "Esophagus - Mucosa file exists\n",
      "Processing Esophagus - Gastroesophageal Junction -> esog\n",
      "Esophagus - Gastroesophageal Junction file exists\n",
      "Processing Stomach -> sto\n",
      "Stomach file exists\n",
      "Processing Colon - Sigmoid -> cols\n",
      "Colon - Sigmoid file exists\n",
      "Processing Small Intestine - Terminal Ileum -> si\n",
      "Small Intestine - Terminal Ileum file exists\n",
      "Processing Colon - Transverse -> colt\n",
      "Colon - Transverse file exists\n",
      "Processing Prostate -> pro\n",
      "Prostate file exists\n",
      "Processing Testis -> tes\n",
      "Testis file exists\n",
      "Processing Skin - Sun Exposed (Lower leg) -> sse\n",
      "Skin - Sun Exposed (Lower leg) file exists\n",
      "Processing Nerve - Tibial -> nt\n",
      "Nerve - Tibial file exists\n",
      "Processing Heart - Left Ventricle -> hlv\n",
      "Heart - Left Ventricle file exists\n",
      "Processing Pituitary -> pit\n",
      "Pituitary file exists\n",
      "Processing Brain - Cerebellum -> bce\n",
      "Brain - Cerebellum file exists\n",
      "Processing Cells - Cultured fibroblasts -> fib\n",
      "Cells - Cultured fibroblasts file exists\n",
      "Processing Whole Blood -> wb\n",
      "Whole Blood file exists\n",
      "Processing Artery - Aorta -> aa\n",
      "Artery - Aorta file exists\n",
      "Processing Cells - EBV-transformed lymphocytes -> ebv\n",
      "Cells - EBV-transformed lymphocytes file exists\n",
      "Processing Brain - Frontal Cortex (BA9) -> bfr\n",
      "Brain - Frontal Cortex (BA9) file exists\n",
      "Processing Brain - Cerebellar Hemisphere -> bceh\n",
      "Brain - Cerebellar Hemisphere file exists\n",
      "Processing Brain - Caudate (basal ganglia) -> bca\n",
      "Brain - Caudate (basal ganglia) file exists\n",
      "Processing Brain - Nucleus accumbens (basal ganglia) -> bnu\n",
      "Brain - Nucleus accumbens (basal ganglia) file exists\n",
      "Processing Brain - Putamen (basal ganglia) -> bpu\n",
      "Brain - Putamen (basal ganglia) file exists\n",
      "Processing Brain - Hypothalamus -> bhy\n",
      "Brain - Hypothalamus file exists\n",
      "Processing Brain - Spinal cord (cervical c-1) -> bsp\n",
      "Brain - Spinal cord (cervical c-1) file exists\n",
      "Processing Liver -> liv\n",
      "Liver file exists\n",
      "Processing Brain - Hippocampus -> bhi\n",
      "Brain - Hippocampus file exists\n",
      "Processing Brain - Anterior cingulate cortex (BA24) -> ban\n",
      "Brain - Anterior cingulate cortex (BA24) file exists\n",
      "Processing Brain - Substantia nigra -> bsu\n",
      "Brain - Substantia nigra file exists\n",
      "Processing Kidney - Cortex -> kc\n",
      "Kidney - Cortex file exists\n",
      "Processing Brain - Amygdala -> bam\n",
      "Brain - Amygdala file exists\n",
      "ERROR: tissue not in table or <30 samples\n",
      "ERROR: tissue not in table or <30 samples\n",
      "ERROR: tissue not in table or <30 samples\n",
      "ERROR: tissue not in table or <30 samples\n",
      "ERROR: tissue not in table or <30 samples\n",
      "ERROR: tissue not in table or <30 samples\n"
     ]
    }
   ],
   "source": [
    "for t in tissue_names:\n",
    "    if len(donors_per_tissue[t]) > 30 and t in names2acr:\n",
    "        print(f\"Processing {t} -> {names2acr[t]}\")\n",
    "        outfile = f\"/data/franco/datasets/gtex_v8/expression/GTEx_tpms/GTEx_Analysis_2017-06-05_v8_RNASeQCv1.1.9.gene_tpm.{names2acr[t]}.txt\"\n",
    "        if not os.path.exists(outfile):\n",
    "            expr_tissue_df = expression_df[donors_per_tissue[t]]\n",
    "            write_gct(expr_tissue_df, outfile)\n",
    "        else:\n",
    "            print(f\"{t} file exists\")\n",
    "    else:\n",
    "        print(\"ERROR: tissue not in table or <30 samples\")"
   ]
  },
  {
   "cell_type": "code",
   "execution_count": 104,
   "metadata": {},
   "outputs": [],
   "source": [
    "del expression_df"
   ]
  },
  {
   "cell_type": "code",
   "execution_count": 105,
   "metadata": {},
   "outputs": [],
   "source": [
    "counts_df = read_gct(counts_gct, gt_donors)"
   ]
  },
  {
   "cell_type": "code",
   "execution_count": 106,
   "metadata": {},
   "outputs": [
    {
     "data": {
      "text/plain": [
       "(56200, 15253)"
      ]
     },
     "execution_count": 106,
     "metadata": {},
     "output_type": "execute_result"
    }
   ],
   "source": [
    "counts_df.shape"
   ]
  },
  {
   "cell_type": "code",
   "execution_count": 107,
   "metadata": {},
   "outputs": [
    {
     "name": "stdout",
     "output_type": "stream",
     "text": [
      "Processing Adipose - Subcutaneous -> as\n",
      "Processing Muscle - Skeletal -> ms\n",
      "Processing Artery - Tibial -> at\n",
      "Processing Artery - Coronary -> ac\n",
      "Processing Heart - Atrial Appendage -> haa\n",
      "Processing Adipose - Visceral (Omentum) -> av\n",
      "Processing Ovary -> ov\n",
      "Processing Uterus -> ut\n",
      "Processing Vagina -> va\n",
      "Processing Breast - Mammary Tissue -> br\n",
      "Processing Skin - Not Sun Exposed (Suprapubic) -> snse\n",
      "Processing Minor Salivary Gland -> msg\n",
      "Processing Brain - Cortex -> bco\n",
      "Processing Adrenal Gland -> ag\n",
      "Processing Thyroid -> thy\n",
      "Processing Lung -> lu\n",
      "Processing Spleen -> spl\n",
      "Processing Pancreas -> pan\n",
      "Processing Esophagus - Muscularis -> esomu\n",
      "Processing Esophagus - Mucosa -> esom\n",
      "Processing Esophagus - Gastroesophageal Junction -> esog\n",
      "Processing Stomach -> sto\n",
      "Processing Colon - Sigmoid -> cols\n",
      "Processing Small Intestine - Terminal Ileum -> si\n",
      "Processing Colon - Transverse -> colt\n",
      "Processing Prostate -> pro\n",
      "Processing Testis -> tes\n",
      "Processing Skin - Sun Exposed (Lower leg) -> sse\n",
      "Processing Nerve - Tibial -> nt\n",
      "Processing Heart - Left Ventricle -> hlv\n",
      "Processing Pituitary -> pit\n",
      "Processing Brain - Cerebellum -> bce\n",
      "Processing Cells - Cultured fibroblasts -> fib\n",
      "Processing Whole Blood -> wb\n",
      "Processing Artery - Aorta -> aa\n",
      "Processing Cells - EBV-transformed lymphocytes -> ebv\n",
      "Processing Brain - Frontal Cortex (BA9) -> bfr\n",
      "Processing Brain - Cerebellar Hemisphere -> bceh\n",
      "Processing Brain - Caudate (basal ganglia) -> bca\n",
      "Processing Brain - Nucleus accumbens (basal ganglia) -> bnu\n",
      "Processing Brain - Putamen (basal ganglia) -> bpu\n",
      "Processing Brain - Hypothalamus -> bhy\n",
      "Processing Brain - Spinal cord (cervical c-1) -> bsp\n",
      "Processing Liver -> liv\n",
      "Processing Brain - Hippocampus -> bhi\n",
      "Processing Brain - Anterior cingulate cortex (BA24) -> ban\n",
      "Processing Brain - Substantia nigra -> bsu\n",
      "Processing Kidney - Cortex -> kc\n",
      "Processing Brain - Amygdala -> bam\n",
      "ERROR: tissue not in table or <30 samples\n",
      "ERROR: tissue not in table or <30 samples\n",
      "ERROR: tissue not in table or <30 samples\n",
      "ERROR: tissue not in table or <30 samples\n",
      "ERROR: tissue not in table or <30 samples\n",
      "ERROR: tissue not in table or <30 samples\n"
     ]
    }
   ],
   "source": [
    "for t in tissue_names:\n",
    "    if len(donors_per_tissue[t]) > 30 and t in names2acr:\n",
    "        print(f\"Processing {t} -> {names2acr[t]}\")\n",
    "        outfile = f\"/data/franco/datasets/gtex_v8/expression/GTEx_reads/GTEx_Analysis_2017-06-05_v8_RNASeQCv1.1.9.gene_reads.{names2acr[t]}.txt\"\n",
    "        if not os.path.exists(outfile):\n",
    "            counts_tissue_df = counts_df[donors_per_tissue[t]]\n",
    "            write_gct(counts_tissue_df, outfile)\n",
    "        else:\n",
    "            print(f\"{t} file exists\")\n",
    "    else:\n",
    "        print(\"ERROR: tissue not in table or <30 samples\")"
   ]
  },
  {
   "cell_type": "code",
   "execution_count": 31,
   "metadata": {},
   "outputs": [
    {
     "name": "stdout",
     "output_type": "stream",
     "text": [
      "Normalizing using all genes within 8116 samples ...\n"
     ]
    }
   ],
   "source": [
    "\n",
    "# print('Normalizing using all genes within %i samples ...' % expression_df.shape[1])\n",
    "# quant_std_df, quant_df = normalize_expression(wblood_expression_df, wblood_counts_df,\n",
    "#     expression_threshold=expression_threshold, count_threshold=count_threshold, min_samples=min_samples)\n"
   ]
  }
 ],
 "metadata": {
  "kernelspec": {
   "display_name": "Python 3",
   "language": "python",
   "name": "python3"
  },
  "language_info": {
   "codemirror_mode": {
    "name": "ipython",
    "version": 3
   },
   "file_extension": ".py",
   "mimetype": "text/x-python",
   "name": "python",
   "nbconvert_exporter": "python",
   "pygments_lexer": "ipython3",
   "version": "3.9.1"
  }
 },
 "nbformat": 4,
 "nbformat_minor": 2
}
